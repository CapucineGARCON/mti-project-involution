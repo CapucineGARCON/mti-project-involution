{
 "cells": [
  {
   "cell_type": "markdown",
   "metadata": {},
   "source": [
    "# Experimentations\n",
    "## [TITLE FOR YOUR EXPERIMENTS]"
   ]
  },
  {
   "cell_type": "markdown",
   "metadata": {},
   "source": [
    "## Instructions\n",
    "\n",
    "- Create and checkout a branch for your work (`git checkout -b YOUR_BRANCH_NAME`)\n",
    "- Create a copy of this template and name it however you want (e.g. `YOUR_NAME.ipynb`).\n",
    "- Change the title according to what scenario you are testing.\n",
    "- In the \"involution\" part, replace the existing model with the relevant model.\n",
    "- Create as many cells as you deem necessary for the experiments (explain your use case, comparison with convolution or other networks, results, etc.).\n",
    "- Remove this cell and every \"TODO\" comment.\n",
    "- When you are done, commit your changes. Make sure you are only committing changes on the file you created! (you can check with `git status`)\n",
    "- Push your changes on the repo (`git push --set-upstream origin YOUR_BRANCH_NAME`).\n",
    "- Create a pull request to the `main` branch so that everyone can read your code before we merge it."
   ]
  },
  {
   "cell_type": "code",
   "execution_count": 2,
   "metadata": {},
   "outputs": [],
   "source": [
    "import numpy as np\n",
    "import tensorflow as tf\n",
    "import matplotlib.pyplot as plt\n",
    "from involution import Involution"
   ]
  },
  {
   "cell_type": "markdown",
   "metadata": {},
   "source": [
    "## Involution"
   ]
  },
  {
   "cell_type": "code",
   "execution_count": 10,
   "metadata": {},
   "outputs": [],
   "source": [
    "# TODO: Replace this with your model\n",
    "\n",
    "involution_model = tf.keras.models.Sequential([\n",
    "    Involution(channel=3,group_number=1,kernel_size=3,stride=1,reduction_ratio=2),\n",
    "    tf.keras.layers.ReLU(name=\"relu1\"),\n",
    "    tf.keras.layers.MaxPooling2D((2, 2)),\n",
    "    Involution(channel=3,group_number=1,kernel_size=3,stride=1,reduction_ratio=2),\n",
    "    tf.keras.layers.ReLU(name=\"relu2\"),\n",
    "    tf.keras.layers.MaxPooling2D((2, 2)),\n",
    "    Involution(channel=3,group_number=1,kernel_size=3,stride=1,reduction_ratio=2),\n",
    "    tf.keras.layers.ReLU(name=\"relu3\"),\n",
    "    tf.keras.layers.Flatten(),\n",
    "    tf.keras.layers.Dense(64, activation='relu'),\n",
    "    tf.keras.layers.Dense(10),\n",
    "])\n",
    "\n",
    "involution_model.compile(\n",
    "    optimizer='adam',\n",
    "    loss=tf.keras.losses.SparseCategoricalCrossentropy(from_logits=True),\n",
    "    metrics=['accuracy']\n",
    ")\n"
   ]
  },
  {
   "cell_type": "code",
   "execution_count": null,
   "metadata": {},
   "outputs": [],
   "source": [
    "# TODO: Train your model"
   ]
  },
  {
   "cell_type": "code",
   "execution_count": null,
   "metadata": {},
   "outputs": [],
   "source": [
    "# Uncomment after the model has been trained to see the layers\n",
    "# involution_model.summary()"
   ]
  },
  {
   "cell_type": "code",
   "execution_count": null,
   "metadata": {},
   "outputs": [],
   "source": [
    "# TODO: your code, models and experiments here\n",
    "# The experiments should at least compare:\n",
    "# - Accuracy\n",
    "# - Number of parameters of the model\n",
    "# - Training time (relative difference, precise the setup)"
   ]
  }
 ],
 "metadata": {
  "interpreter": {
   "hash": "34ff3397c474938b265d2f4b45024e5465249fab18e07736c9a068b37b408800"
  },
  "kernelspec": {
   "display_name": "Python 3.8.12 64-bit ('python-all': conda)",
   "language": "python",
   "name": "python3"
  },
  "language_info": {
   "codemirror_mode": {
    "name": "ipython",
    "version": 3
   },
   "file_extension": ".py",
   "mimetype": "text/x-python",
   "name": "python",
   "nbconvert_exporter": "python",
   "pygments_lexer": "ipython3",
   "version": "3.8.12"
  },
  "orig_nbformat": 4
 },
 "nbformat": 4,
 "nbformat_minor": 2
}

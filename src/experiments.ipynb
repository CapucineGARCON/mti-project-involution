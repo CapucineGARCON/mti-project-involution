{
  "cells": [
    {
      "cell_type": "markdown",
      "metadata": {
        "id": "6-JbZ6fkoUs-"
      },
      "source": [
        "# Experimentations\n"
      ]
    },
    {
      "cell_type": "code",
      "execution_count": null,
      "metadata": {
        "colab": {
          "base_uri": "https://localhost:8080/"
        },
        "id": "iaPqCffDOmpi",
        "outputId": "c7cf629e-5b6d-48e5-c1d4-bc250cbdd6a6"
      },
      "outputs": [],
      "source": [
        "#!pip install visualkeras"
      ]
    },
    {
      "cell_type": "code",
      "execution_count": null,
      "metadata": {
        "id": "JO12352FoUtE"
      },
      "outputs": [],
      "source": [
        "import numpy as np\n",
        "import matplotlib.pyplot as plt\n",
        "\n",
        "import tensorflow as tf\n",
        "import keras\n",
        "from keras.datasets import mnist\n",
        "from tensorflow.keras import layers\n",
        "\n",
        "from involution import Involution\n",
        "from utils import train_model, display_model, display_results\n",
        "\n",
        "import visualkeras # for NN visualisation"
      ]
    },
    {
      "cell_type": "markdown",
      "metadata": {
        "id": "MZFoSMl2OYIY"
      },
      "source": [
        "## Experimentations on MNIST"
      ]
    },
    {
      "cell_type": "markdown",
      "metadata": {
        "id": "K5Bf1wVqp2QD"
      },
      "source": [
        "### MNIST Dataset loading"
      ]
    },
    {
      "cell_type": "code",
      "execution_count": null,
      "metadata": {
        "colab": {
          "base_uri": "https://localhost:8080/"
        },
        "id": "WbbzhnFwp2fK",
        "outputId": "b8f522e5-4c0c-4692-c6a6-c2754c541bf4"
      },
      "outputs": [],
      "source": [
        "(x_raw_train_mnist, y_train_mnist), (x_raw_test_mnist, y_test_mnist) = mnist.load_data() # downloads the MNIST dataset (handwritten numbers)\n",
        "\n",
        "# Scales images to the [0,1] range and expands the dimensions so that it has shape (28, 28, 1)\n",
        "x_train_mnist = np.expand_dims(x_raw_train_mnist.astype(\"float32\") / 255, -1) \n",
        "x_test_mnist = np.expand_dims(x_raw_test_mnist.astype(\"float32\") / 255, -1)"
      ]
    },
    {
      "cell_type": "code",
      "execution_count": null,
      "metadata": {
        "colab": {
          "base_uri": "https://localhost:8080/",
          "height": 294
        },
        "id": "l4D0LsrlqVw9",
        "outputId": "6b4f0f84-a22c-432e-f031-1747941a49b4"
      },
      "outputs": [],
      "source": [
        "fig = plt.figure\n",
        "id_img = np.random.randint(0, len(x_train_mnist)) # takes a random image from the dataset\n",
        "\n",
        "plt.imshow(x_raw_train_mnist[id_img], cmap='gray') # imshow an image from the dataset\n",
        "plt.suptitle(\"Representation of a \"+str(y_train_mnist[id_img])+\" in MNIST Dataset\")\n",
        "plt.show()"
      ]
    },
    {
      "cell_type": "markdown",
      "metadata": {
        "id": "Q5I7opdAqHtg"
      },
      "source": [
        "### Convolution\n",
        "\n",
        "CNN inspired by Lecun et al in http://yann.lecun.com/exdb/publis/pdf/lecun-iscas-10.pdf.\n",
        "\n",
        "Model available at https://keras.io/examples/vision/mnist_convnet/"
      ]
    },
    {
      "cell_type": "code",
      "execution_count": null,
      "metadata": {
        "colab": {
          "base_uri": "https://localhost:8080/"
        },
        "id": "gVtd1KUMqJTD",
        "outputId": "954326a6-b693-482d-8d81-11fb5e2417e2"
      },
      "outputs": [],
      "source": [
        "num_classes = 10\n",
        "\n",
        "cnn_mnist = keras.Sequential( # definition of the CNN\n",
        "    [\n",
        "        keras.Input(shape=(28, 28, 1)), # images of size 28x28 pixels, with only 1 channel (greyscale)\n",
        "        layers.Conv2D(32, kernel_size=(3, 3), activation=\"relu\"), # convolution layer: dot products with the weights, and activation function\n",
        "        layers.MaxPooling2D(pool_size=(2, 2)), # pooling layer: downsampling, reduces the size of the representation\n",
        "        layers.Conv2D(64, kernel_size=(3, 3), activation=\"relu\"),\n",
        "        layers.MaxPooling2D(pool_size=(2, 2)),\n",
        "        layers.Flatten(), # flatten layer: converts the data into a 1-D feature vector to feed it to the final layers\n",
        "        layers.Dropout(0.5), # dropout layer: drops part of the data to avoid overfitting\n",
        "        layers.Dense(num_classes, activation=\"softmax\"), # dense layer: computes the result\n",
        "    ]\n",
        ")\n",
        "\n",
        "cnn_mnist.compile(optimizer='adam',\n",
        "              loss='sparse_categorical_crossentropy',\n",
        "              metrics=['accuracy'])\n",
        "\n",
        "cnn_mnist.summary()"
      ]
    },
    {
      "cell_type": "code",
      "execution_count": null,
      "metadata": {
        "id": "TMeiPw2OOYIb"
      },
      "outputs": [],
      "source": [
        "display_model(cnn_mnist)"
      ]
    },
    {
      "cell_type": "code",
      "execution_count": null,
      "metadata": {
        "colab": {
          "base_uri": "https://localhost:8080/"
        },
        "id": "YVl5QNyE2NJB",
        "outputId": "1cb99699-2deb-4da2-ea53-f86b30e80006"
      },
      "outputs": [],
      "source": [
        "batch_size = 128\n",
        "epochs = 10\n",
        "\n",
        "cnn_mnist_history, cnn_mnist_time = train_model(cnn_mnist, x_train_mnist, x_test_mnist, y_train_mnist, y_test_mnist, batch_size, epochs)"
      ]
    },
    {
      "cell_type": "code",
      "execution_count": null,
      "metadata": {
        "colab": {
          "base_uri": "https://localhost:8080/",
          "height": 531
        },
        "id": "n4_U3BxD4Ksn",
        "outputId": "8a196155-385e-4673-ce50-6074f85ea988"
      },
      "outputs": [],
      "source": [
        "display_results(cnn_mnist_history, cnn_mnist_time, \"CNN\")"
      ]
    },
    {
      "cell_type": "markdown",
      "metadata": {
        "id": "WuEdP-CXoUtF"
      },
      "source": [
        "### Involution"
      ]
    },
    {
      "cell_type": "code",
      "execution_count": null,
      "metadata": {
        "id": "2kbNfbV3xQbI"
      },
      "outputs": [],
      "source": [
        "inn_mnist = keras.Sequential( # definition of the INN\n",
        "    [\n",
        "        keras.Input(shape=(28, 28, 1)), # images of size 28x28 pixels, with only 1 channel (greyscale)\n",
        "        Involution(channel=3,group_number=1,kernel_size=3,stride=1,reduction_ratio=2),\n",
        "        layers.MaxPooling2D(pool_size=(2, 2)), # pooling layer: downsampling, reduces the size of the representation\n",
        "        Involution(channel=3,group_number=1,kernel_size=3,stride=1,reduction_ratio=2),\n",
        "        layers.MaxPooling2D(pool_size=(2, 2)),\n",
        "        layers.Flatten(), # flatten layer: converts the data into a 1-D feature vector to feed it to the final layers\n",
        "        layers.Dropout(0.5), # dropout layer: drops part of the data to avoid overfitting\n",
        "        layers.Dense(num_classes, activation=\"softmax\"), # dense layer: computes the result\n",
        "    ]\n",
        ")\n",
        "\n",
        "inn_mnist.compile(\n",
        "    optimizer='adam',\n",
        "    loss=tf.keras.losses.SparseCategoricalCrossentropy(from_logits=True),\n",
        "    metrics=['accuracy']\n",
        ")"
      ]
    },
    {
      "cell_type": "code",
      "execution_count": null,
      "metadata": {
        "colab": {
          "base_uri": "https://localhost:8080/"
        },
        "id": "TTta1A8OoUtH",
        "outputId": "7bd74fdd-13ca-4fb4-a7c7-ae4bf60d8a40"
      },
      "outputs": [],
      "source": [
        "batch_size = 128\n",
        "epochs = 10\n",
        "\n",
        "inn_mnist_history, inn_mnist_time = train_model(inn_mnist, x_train_mnist, x_test_mnist, y_train_mnist, y_test_mnist, batch_size, epochs)"
      ]
    },
    {
      "cell_type": "code",
      "execution_count": null,
      "metadata": {
        "colab": {
          "base_uri": "https://localhost:8080/"
        },
        "id": "vRkQBk7x40bs",
        "outputId": "a2324b9e-c4fb-428f-ca1b-591a33e6f342"
      },
      "outputs": [],
      "source": [
        "inn_mnist.summary()\n",
        "display_model(inn_mnist)"
      ]
    },
    {
      "cell_type": "code",
      "execution_count": null,
      "metadata": {
        "colab": {
          "base_uri": "https://localhost:8080/",
          "height": 531
        },
        "id": "k7I4dEU64-Wu",
        "outputId": "9afc0b71-3907-4b5d-a72a-559bb9a910dc"
      },
      "outputs": [],
      "source": [
        "display_results(inn_mnist_history, inn_mnist_time, \"INN\")"
      ]
    },
    {
      "cell_type": "markdown",
      "metadata": {
        "id": "bZoQpur_PkLh"
      },
      "source": [
        "## Experimentations on CIFAR10"
      ]
    },
    {
      "cell_type": "markdown",
      "metadata": {
        "id": "YfX5eCoqPvD3"
      },
      "source": [
        "### CIFAR10 Dataset loading"
      ]
    },
    {
      "cell_type": "code",
      "execution_count": null,
      "metadata": {
        "colab": {
          "base_uri": "https://localhost:8080/"
        },
        "id": "vqGvjh_RP1qZ",
        "outputId": "6bb407c8-3dc7-4ff8-afc3-b159578f5a70"
      },
      "outputs": [],
      "source": [
        "(x_train_cifar, y_train_cifar), (x_test_cifar, y_test_cifar) = tf.keras.datasets.cifar10.load_data()\n",
        "\n",
        "class_img = ['airplane', 'automobile', 'bird', 'cat', 'deer', 'dog', 'frog', 'horse' , 'ship', 'truck']\n",
        "num_classes = len(class_img)\n",
        "\n",
        "# Normalize pixel values to be between 0 and 1\n",
        "x_train, x_test = x_train_cifar / 255.0, x_test_cifar / 255.0\n",
        "\n",
        "# Creating datasets\n",
        "batch_size = 256\n",
        "train_ds = tf.data.Dataset.from_tensor_slices((x_train_cifar, y_train_cifar)).shuffle(batch_size).batch(batch_size)\n",
        "test_ds = tf.data.Dataset.from_tensor_slices( (x_test_cifar, y_test_cifar)).batch(batch_size)"
      ]
    },
    {
      "cell_type": "markdown",
      "metadata": {
        "id": "UNcmclV2R4FG"
      },
      "source": [
        "### Convolution"
      ]
    },
    {
      "cell_type": "code",
      "execution_count": null,
      "metadata": {
        "colab": {
          "base_uri": "https://localhost:8080/"
        },
        "id": "m6oC7z7_P8DV",
        "outputId": "efa47477-d15c-43b6-9d05-c8fa09a49853"
      },
      "outputs": [],
      "source": [
        "cnn_cifar = tf.keras.Sequential(\n",
        "    [\n",
        "        tf.keras.layers.Conv2D(32, (3, 3), activation='relu', input_shape=(32, 32, 3), padding=\"same\"),\n",
        "        tf.keras.layers.MaxPooling2D((2, 2)),\n",
        "        tf.keras.layers.Conv2D(64, (3, 3), activation='relu', padding=\"same\"),\n",
        "        tf.keras.layers.MaxPooling2D((2, 2)),\n",
        "        tf.keras.layers.Conv2D(64, (3, 3), activation='relu', padding=\"same\"),\n",
        "        tf.keras.layers.Flatten(),\n",
        "        tf.keras.layers.Dense(64, activation='relu'),\n",
        "        tf.keras.layers.Dense(num_classes),\n",
        "    ]\n",
        ")\n",
        "\n",
        "cnn_cifar.compile(optimizer='adam',\n",
        "              loss=tf.keras.losses.SparseCategoricalCrossentropy(from_logits=True),\n",
        "              metrics=['accuracy'])\n",
        "\n",
        "cnn_cifar.summary()"
      ]
    },
    {
      "cell_type": "code",
      "execution_count": null,
      "metadata": {
        "id": "qDghbhmZQ1kC"
      },
      "outputs": [],
      "source": [
        "display_model(cnn_cifar)"
      ]
    },
    {
      "cell_type": "code",
      "execution_count": null,
      "metadata": {
        "colab": {
          "base_uri": "https://localhost:8080/"
        },
        "id": "nMRnoYebQ1nK",
        "outputId": "d42c76b1-16ac-49ff-acc6-e8861756348c"
      },
      "outputs": [],
      "source": [
        "batch_size = 256\n",
        "epochs = 10\n",
        "\n",
        "tf.config.run_functions_eagerly(True) # needed to solve a keras bug\n",
        "cnn_cifar_history, cnn_cifar_time = train_model(cnn_cifar, x_train_cifar, x_test_cifar, y_train_cifar, y_test_cifar, batch_size, epochs)"
      ]
    },
    {
      "cell_type": "code",
      "execution_count": null,
      "metadata": {
        "colab": {
          "base_uri": "https://localhost:8080/",
          "height": 531
        },
        "id": "iLRkn33_RYW8",
        "outputId": "5d890462-c9bc-4f15-ce6b-3b2b04840885"
      },
      "outputs": [],
      "source": [
        "display_results(cnn_cifar_history, cnn_cifar_time, \"CNN\")"
      ]
    },
    {
      "cell_type": "markdown",
      "metadata": {
        "id": "qvcCuWqxSs2E"
      },
      "source": [
        "### Involution"
      ]
    },
    {
      "cell_type": "code",
      "execution_count": null,
      "metadata": {
        "id": "gOUBSuVySYnu"
      },
      "outputs": [],
      "source": [
        "inn_cifar = tf.keras.models.Sequential([\n",
        "    Involution(channel=3,group_number=1,kernel_size=3,stride=1,reduction_ratio=2),\n",
        "    tf.keras.layers.ReLU(name=\"relu1\"),\n",
        "    tf.keras.layers.MaxPooling2D((2, 2)),\n",
        "    Involution(channel=3,group_number=1,kernel_size=3,stride=1,reduction_ratio=2),\n",
        "    tf.keras.layers.ReLU(name=\"relu2\"),\n",
        "    tf.keras.layers.MaxPooling2D((2, 2)),\n",
        "    Involution(channel=3,group_number=1,kernel_size=3,stride=1,reduction_ratio=2),\n",
        "    tf.keras.layers.ReLU(name=\"relu3\"),\n",
        "    tf.keras.layers.Flatten(),\n",
        "    tf.keras.layers.Dense(64, activation='relu'),\n",
        "    tf.keras.layers.Dense(num_classes),\n",
        "])\n",
        "\n",
        "inn_cifar.compile(\n",
        "    optimizer='adam',\n",
        "    loss=tf.keras.losses.SparseCategoricalCrossentropy(from_logits=True),\n",
        "    metrics=['accuracy']\n",
        ")"
      ]
    },
    {
      "cell_type": "code",
      "execution_count": null,
      "metadata": {
        "colab": {
          "base_uri": "https://localhost:8080/"
        },
        "id": "Yl-CFVoiSq4e",
        "outputId": "b4e0cdd9-fc62-4082-af78-144fd9faee82"
      },
      "outputs": [],
      "source": [
        "batch_size = 256\n",
        "epochs = 10\n",
        "\n",
        "inn_cifar_history, inn_cifar_time = train_model(inn_cifar, x_train_cifar.astype(\"float\"), x_test_cifar.astype(\"float\"), y_train_cifar.astype(\"float\"), y_test_cifar.astype(\"float\"), batch_size, epochs)"
      ]
    },
    {
      "cell_type": "code",
      "execution_count": null,
      "metadata": {
        "colab": {
          "base_uri": "https://localhost:8080/"
        },
        "id": "_DBwxYxgS4mB",
        "outputId": "7c207cfe-6593-431e-d0a8-a4bd78d408bf"
      },
      "outputs": [],
      "source": [
        "inn_cifar.summary()"
      ]
    },
    {
      "cell_type": "code",
      "execution_count": null,
      "metadata": {
        "colab": {
          "base_uri": "https://localhost:8080/",
          "height": 531
        },
        "id": "WZmehdwEXIs_",
        "outputId": "6f828fc9-d06d-4383-8e6d-b7f579bcb5f4"
      },
      "outputs": [],
      "source": [
        "display_results(inn_cifar_history, inn_cifar_time, \"INN\")"
      ]
    },
    {
      "cell_type": "markdown",
      "metadata": {
        "id": "2jbX64l1XYo7"
      },
      "source": [
        "## Experimentations on fashion MNIST"
      ]
    },
    {
      "cell_type": "markdown",
      "metadata": {
        "id": "BedThFl_XYwf"
      },
      "source": [
        "### Fashion MNIST data loading"
      ]
    },
    {
      "cell_type": "code",
      "execution_count": null,
      "metadata": {
        "colab": {
          "base_uri": "https://localhost:8080/",
          "height": 279
        },
        "id": "18D4oTWyXssR",
        "outputId": "848519d4-99f6-4198-f7cb-07b2b2a2942c"
      },
      "outputs": [],
      "source": [
        "from tensorflow.keras.datasets import fashion_mnist\n",
        "# Import\n",
        "((x_train_fashion, y_train_fashion), (x_test_fashion, y_test_fashion)) = fashion_mnist.load_data()\n",
        "\n",
        "# Normalization between 0 and 1\n",
        "x_train_fashion, x_test_fashion = x_train_fashion / 255.0, x_test_fashion / 255.0\n",
        "\n",
        "x_train_fashion = np.expand_dims(x_train_fashion.astype(\"float32\"), -1) \n",
        "x_train_fashion = np.expand_dims(x_test_fashion.astype(\"float32\"), -1)\n",
        "\n",
        "class_names = ['T-shirt/Top', 'Trouser', 'Pullover', 'Dress', 'Coat', 'Sandal', 'Shirt', 'Sneaker', 'Bag', 'Ankle boot']\n",
        "\n",
        "plt.imshow(x_train_fashion[20].reshape(28,28),cmap = 'gray' )\n",
        "plt.xlabel(class_names[y_train_fashion[20]])\n",
        "plt.show()"
      ]
    },
    {
      "cell_type": "code",
      "execution_count": null,
      "metadata": {
        "id": "l5RYIUeXaKhu"
      },
      "outputs": [],
      "source": [
        "from tensorflow.keras.datasets import fashion_mnist\n",
        "\n",
        "((x_train_fashion, y_train_fashion), (x_test_fashion, y_test_fashion)) = fashion_mnist.load_data()\n",
        "x_train_fashion, x_test_fashion = x_train_fashion / 255.0, x_test_fashion / 255.0\n",
        "class_names = ['T-shirt/Top', 'Trouser', 'Pullover', 'Dress', 'Coat', 'Sandal', 'Shirt', 'Sneaker', 'Bag', 'Ankle boot']"
      ]
    },
    {
      "cell_type": "markdown",
      "metadata": {
        "id": "CO9O8hHqXhZG"
      },
      "source": [
        "### Convolution"
      ]
    },
    {
      "cell_type": "code",
      "execution_count": null,
      "metadata": {
        "colab": {
          "base_uri": "https://localhost:8080/"
        },
        "id": "fPDjt4CBYM5d",
        "outputId": "ce81e4bf-3604-4761-8abc-ec6c2ffca9f2"
      },
      "outputs": [],
      "source": [
        "cnn_fashion = tf.keras.models.Sequential([\n",
        "          tf.keras.layers.Conv2D(filters = 32, kernel_size = (3,3), activation = 'relu', input_shape = (28,28,1), padding = 'same'),\n",
        "          tf.keras.layers.MaxPool2D((2,2)),\n",
        "          tf.keras.layers.Conv2D(filters = 64, kernel_size = (3,3), activation = 'relu', padding = 'same'),\n",
        "          tf.keras.layers.MaxPool2D((2,2)),\n",
        "          tf.keras.layers.Conv2D(filters = 64, kernel_size = (3,3), activation = 'relu', padding = 'same'),\n",
        "          tf.keras.layers.Flatten(),\n",
        "          tf.keras.layers.Dense(64, activation = 'relu'),\n",
        "          tf.keras.layers.Dense(10),])\n",
        "\n",
        "cnn_fashion.compile(\n",
        "    optimizer='adam',\n",
        "    loss=tf.keras.losses.SparseCategoricalCrossentropy(from_logits=True),\n",
        "    metrics=['accuracy']\n",
        ")\n",
        "\n",
        "cnn_fashion.summary()"
      ]
    },
    {
      "cell_type": "code",
      "execution_count": null,
      "metadata": {
        "id": "VrIHfJJTYTxT"
      },
      "outputs": [],
      "source": [
        "display_model(cnn_fashion)"
      ]
    },
    {
      "cell_type": "code",
      "execution_count": null,
      "metadata": {
        "colab": {
          "base_uri": "https://localhost:8080/"
        },
        "id": "qjdrwejzYblC",
        "outputId": "a83015a3-43f7-4454-f777-1b61c27efba4"
      },
      "outputs": [],
      "source": [
        "batch_size = 128\n",
        "epochs = 10\n",
        "\n",
        "cnn_fashion_history, cnn_fashion_time = train_model(cnn_fashion, x_train_fashion, x_test_fashion, y_train_fashion, y_test_fashion, batch_size, epochs)"
      ]
    },
    {
      "cell_type": "code",
      "execution_count": null,
      "metadata": {
        "colab": {
          "base_uri": "https://localhost:8080/",
          "height": 531
        },
        "id": "uRTr5BFCbgoV",
        "outputId": "2f01762a-f690-49cd-bed1-5078ecad8399"
      },
      "outputs": [],
      "source": [
        "display_results(cnn_fashion_history, cnn_fashion_time, \"CNN\")"
      ]
    },
    {
      "cell_type": "markdown",
      "metadata": {
        "id": "r1SvfkKrXhba"
      },
      "source": [
        "### Involution"
      ]
    },
    {
      "cell_type": "code",
      "execution_count": null,
      "metadata": {
        "id": "u3JmFSzNXgo9"
      },
      "outputs": [],
      "source": [
        "inn_fashion = tf.keras.models.Sequential([\n",
        "    Involution(channel=3,group_number=1,kernel_size=3,stride=1,reduction_ratio=2),\n",
        "    tf.keras.layers.ReLU(name=\"relu1\"),\n",
        "    tf.keras.layers.MaxPooling2D((2, 2)),\n",
        "    Involution(channel=3,group_number=1,kernel_size=3,stride=1,reduction_ratio=2),\n",
        "    tf.keras.layers.ReLU(name=\"relu2\"),\n",
        "    tf.keras.layers.MaxPooling2D((2, 2)),\n",
        "    Involution(channel=3,group_number=1,kernel_size=3,stride=1,reduction_ratio=2),\n",
        "    tf.keras.layers.ReLU(name=\"relu3\"),\n",
        "    tf.keras.layers.Flatten(),\n",
        "    tf.keras.layers.Dense(64, activation='relu'),\n",
        "    tf.keras.layers.Dense(10),\n",
        "])\n",
        "\n",
        "inn_fashion.compile(\n",
        "    optimizer='adam',\n",
        "    loss=tf.keras.losses.SparseCategoricalCrossentropy(from_logits=True),\n",
        "    metrics=['accuracy']\n",
        ")"
      ]
    },
    {
      "cell_type": "code",
      "execution_count": null,
      "metadata": {
        "id": "ZtyJ7vo9d8Pu"
      },
      "outputs": [],
      "source": [
        "x_train_fashion = np.expand_dims(x_train_fashion.astype(\"float32\"), -1) \n",
        "x_test_fashion = np.expand_dims(x_test_fashion.astype(\"float32\"), -1)"
      ]
    },
    {
      "cell_type": "code",
      "execution_count": null,
      "metadata": {
        "colab": {
          "base_uri": "https://localhost:8080/"
        },
        "id": "N32AyedYcMCM",
        "outputId": "087e81b7-024e-4fe5-a6f0-fb94fe21b88f"
      },
      "outputs": [],
      "source": [
        "batch_size = 128\n",
        "epochs = 10\n",
        "\n",
        "tf.config.run_functions_eagerly(True)\n",
        "inn_fashion_history, inn_fashion_time = train_model(inn_fashion, x_train_fashion, x_test_fashion, y_train_fashion, y_test_fashion, batch_size, epochs)"
      ]
    },
    {
      "cell_type": "code",
      "execution_count": null,
      "metadata": {
        "colab": {
          "base_uri": "https://localhost:8080/"
        },
        "id": "Dg4-R3MXdRMf",
        "outputId": "0cabaee8-d6ff-43a5-8c9f-eaa18ac3bde8"
      },
      "outputs": [],
      "source": [
        "inn_fashion.summary()"
      ]
    },
    {
      "cell_type": "code",
      "execution_count": null,
      "metadata": {
        "colab": {
          "base_uri": "https://localhost:8080/",
          "height": 531
        },
        "id": "94BD7LmpdVMt",
        "outputId": "19de19db-9849-4dc1-f53c-66dd312f1a04"
      },
      "outputs": [],
      "source": [
        "display_results(inn_fashion_history, inn_fashion_time, \"INN\")"
      ]
    }
  ],
  "metadata": {
    "accelerator": "GPU",
    "colab": {
      "collapsed_sections": [],
      "name": "experiments-mti.ipynb",
      "provenance": [],
      "toc_visible": true
    },
    "interpreter": {
      "hash": "34ff3397c474938b265d2f4b45024e5465249fab18e07736c9a068b37b408800"
    },
    "kernelspec": {
      "display_name": "Python 3.8.12 64-bit ('python-all': conda)",
      "language": "python",
      "name": "python3"
    },
    "language_info": {
      "codemirror_mode": {
        "name": "ipython",
        "version": 3
      },
      "file_extension": ".py",
      "mimetype": "text/x-python",
      "name": "python",
      "nbconvert_exporter": "python",
      "pygments_lexer": "ipython3",
      "version": "3.8.12"
    },
    "orig_nbformat": 4
  },
  "nbformat": 4,
  "nbformat_minor": 0
}

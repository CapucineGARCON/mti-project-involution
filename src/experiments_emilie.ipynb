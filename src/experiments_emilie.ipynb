{
  "cells": [
    {
      "cell_type": "markdown",
      "metadata": {
        "id": "FWXF1sOWn1ha"
      },
      "source": [
        "# Experimentations\n",
        "## Comparison between involution and convolution on CIFAR10 "
      ]
    },
    {
      "cell_type": "markdown",
      "metadata": {
        "id": "jNVBH65nn1hc"
      },
      "source": [
        "## Instructions\n",
        "\n",
        "- Create and checkout a branch for your work (`git checkout -b YOUR_BRANCH_NAME`)\n",
        "- Create a copy of this template and name it however you want (e.g. `YOUR_NAME.ipynb`).\n",
        "- Change the title according to what scenario you are testing.\n",
        "- In the \"involution\" part, replace the existing model with the relevant model.\n",
        "- Create as many cells as you deem necessary for the experiments (explain your use case, comparison with convolution or other networks, results, etc.).\n",
        "- Remove this cell and every \"TODO\" comment.\n",
        "- When you are done, commit your changes. Make sure you are only committing changes on the file you created! (you can check with `git status`)\n",
        "- Push your changes on the repo (`git push --set-upstream origin YOUR_BRANCH_NAME`).\n",
        "- Create a pull request to the `main` branch so that everyone can read your code before we merge it."
      ]
    },
    {
      "cell_type": "code",
      "execution_count": null,
      "metadata": {
        "id": "nKjN8ZwYn1hc"
      },
      "outputs": [],
      "source": [
        "import numpy as np\n",
        "import tensorflow as tf\n",
        "import matplotlib.pyplot as plt\n",
        "from involution import Involution\n",
        "import time\n",
        "import visualkeras"
      ]
    },
    {
      "cell_type": "markdown",
      "metadata": {
        "id": "81bXaeYEoPJ3"
      },
      "source": [
        "## Import and formatting of data (CIFAR10)"
      ]
    },
    {
      "cell_type": "code",
      "execution_count": null,
      "metadata": {
        "id": "d6VE7_f0oWN6"
      },
      "outputs": [],
      "source": [
        "(x_train, y_train), (x_test, y_test) = tf.keras.datasets.cifar10.load_data()\n",
        "\n",
        "class_img = ['airplane', 'automobile', 'bird', 'cat', 'deer', 'dog', 'frog', 'horse' , 'ship', 'truck']\n",
        "\n",
        "num_classes = len(class_img)\n",
        "\n",
        "batch_size = 256\n",
        "\n",
        "epochs = 10 # TODO A AUGMENTER\n",
        "\n",
        "# Normalize pixel values to be between 0 and 1\n",
        "x_train, x_test = x_train / 255.0, x_test / 255.0\n",
        "\n",
        "# Creating datasets\n",
        "train_ds = tf.data.Dataset.from_tensor_slices((x_train, y_train)).shuffle(batch_size).batch(batch_size)\n",
        "test_ds = tf.data.Dataset.from_tensor_slices( (x_test, y_test)).batch(batch_size)"
      ]
    },
    {
      "cell_type": "markdown",
      "metadata": {
        "id": "N3LU0iIvpcdr"
      },
      "source": [
        "## Convolution (model 1)"
      ]
    },
    {
      "cell_type": "code",
      "execution_count": null,
      "metadata": {
        "id": "AO7jXh6Hpnih"
      },
      "outputs": [],
      "source": [
        "modelCNN1 = tf.keras.Sequential(\n",
        "    [\n",
        "        tf.keras.layers.Conv2D(32, (3, 3), activation='relu', input_shape=(32, 32, 3), padding=\"same\"),\n",
        "        tf.keras.layers.MaxPooling2D((2, 2)),\n",
        "        tf.keras.layers.Conv2D(64, (3, 3), activation='relu', padding=\"same\"),\n",
        "        tf.keras.layers.MaxPooling2D((2, 2)),\n",
        "        tf.keras.layers.Conv2D(64, (3, 3), activation='relu', padding=\"same\"),\n",
        "        tf.keras.layers.Flatten(),\n",
        "        tf.keras.layers.Dense(64, activation='relu'),\n",
        "        tf.keras.layers.Dense(num_classes),\n",
        "    ]\n",
        ")"
      ]
    },
    {
      "cell_type": "code",
      "execution_count": null,
      "metadata": {
        "colab": {
          "base_uri": "https://localhost:8080/"
        },
        "id": "aUD1lV8cqqAK",
        "outputId": "386a7cb2-c3aa-4ca9-8f31-68586f6854e0"
      },
      "outputs": [],
      "source": [
        "modelCNN1.compile(optimizer='adam',\n",
        "              loss=tf.keras.losses.SparseCategoricalCrossentropy(from_logits=True),\n",
        "              metrics=['accuracy'])\n",
        "\n",
        "start_time_CNN1 = time.time()\n",
        "\n",
        "history = modelCNN1.fit(x=x_train, \n",
        "          y=y_train, \n",
        "          epochs=epochs, \n",
        "          validation_data=(x_test, y_test),\n",
        "          verbose=1)\n",
        "\n",
        "training_time_CNN1 = time.time() - start_time_CNN1\n",
        "\n",
        "accuracy_CNN1 = np.max(history.history['val_accuracy'])"
      ]
    },
    {
      "cell_type": "code",
      "execution_count": null,
      "metadata": {
        "colab": {
          "base_uri": "https://localhost:8080/"
        },
        "id": "69_EK4Lq1CIN",
        "outputId": "3d9dd811-ce7e-4887-a60b-0c63a237d06e"
      },
      "outputs": [],
      "source": [
        "modelCNN1.summary()"
      ]
    },
    {
      "cell_type": "code",
      "execution_count": null,
      "metadata": {
        "colab": {
          "base_uri": "https://localhost:8080/"
        },
        "id": "c9UsRirYvEJy",
        "outputId": "e8a50fbd-2956-4b66-b1d3-f662b0d3c63c"
      },
      "outputs": [],
      "source": [
        "print(\"Accuracy of CNN model 1 : \" + str(accuracy_CNN1))\n",
        "print(\"Training time of CNN model 1 : \" + str(training_time_CNN1))"
      ]
    },
    {
      "cell_type": "code",
      "execution_count": null,
      "metadata": {
        "colab": {
          "base_uri": "https://localhost:8080/",
          "height": 531
        },
        "id": "kghHQck_q7m-",
        "outputId": "28385144-522d-487e-a354-adaf6c447113"
      },
      "outputs": [],
      "source": [
        "fig, ax = plt.subplots(1,2, figsize=(15,8))\n",
        "\n",
        "ax[0].plot(history.history['accuracy'], label='training accuracy')\n",
        "ax[0].plot(history.history['val_accuracy'], label='validation accuracy')\n",
        "ax[0].grid()\n",
        "ax[0].legend()\n",
        "ax[0].set_title('Accuracy vs. Epochs - CNN model 1')\n",
        "ax[0].set_xlabel('# Epochs')\n",
        "\n",
        "ax[1].plot(history.history['loss'], label='training loss')\n",
        "ax[1].plot(history.history['val_loss'], label='validation loss')\n",
        "ax[1].grid()\n",
        "ax[1].legend()\n",
        "ax[1].set_title('Loss vs. Epochs - CNN model 1')\n",
        "ax[1].set_xlabel('# Epochs')"
      ]
    },
    {
      "cell_type": "markdown",
      "metadata": {
        "id": "XUFkudwDn1hd"
      },
      "source": [
        "## Involution (model 1)"
      ]
    },
    {
      "cell_type": "code",
      "execution_count": null,
      "metadata": {
        "id": "7ONmaQW9n1hd"
      },
      "outputs": [],
      "source": [
        "modelINN1 = tf.keras.models.Sequential([\n",
        "    Involution(channel=3,group_number=1,kernel_size=3,stride=1,reduction_ratio=2),\n",
        "    tf.keras.layers.ReLU(name=\"relu1\"),\n",
        "    tf.keras.layers.MaxPooling2D((2, 2)),\n",
        "    Involution(channel=3,group_number=1,kernel_size=3,stride=1,reduction_ratio=2),\n",
        "    tf.keras.layers.ReLU(name=\"relu2\"),\n",
        "    tf.keras.layers.MaxPooling2D((2, 2)),\n",
        "    Involution(channel=3,group_number=1,kernel_size=3,stride=1,reduction_ratio=2),\n",
        "    tf.keras.layers.ReLU(name=\"relu3\"),\n",
        "    tf.keras.layers.Flatten(),\n",
        "    tf.keras.layers.Dense(64, activation='relu'),\n",
        "    tf.keras.layers.Dense(num_classes),\n",
        "])\n",
        "\n",
        "modelINN1.compile(\n",
        "    optimizer='adam',\n",
        "    loss=tf.keras.losses.SparseCategoricalCrossentropy(from_logits=True),\n",
        "    metrics=['accuracy']\n",
        ")\n"
      ]
    },
    {
      "cell_type": "code",
      "execution_count": null,
      "metadata": {
        "colab": {
          "base_uri": "https://localhost:8080/"
        },
        "id": "KUEnPl8gn1he",
        "outputId": "0d36330a-1935-4b78-b59a-0bbf23553ac9"
      },
      "outputs": [],
      "source": [
        "start_time_INN1 = time.time()\n",
        "\n",
        "history = modelINN1.fit(x=x_train, \n",
        "          y=y_train, \n",
        "          epochs=epochs, \n",
        "          validation_data=(x_test, y_test),\n",
        "          verbose=1)\n",
        "\n",
        "training_time_INN1 = time.time() - start_time_INN1\n",
        "\n",
        "accuracy_INN1 = np.max(history.history['val_accuracy'])"
      ]
    },
    {
      "cell_type": "code",
      "execution_count": null,
      "metadata": {
        "colab": {
          "base_uri": "https://localhost:8080/"
        },
        "id": "D2nXTQVwwJVl",
        "outputId": "10225a7e-ceb5-4e72-f532-fbc4f4fc33c6"
      },
      "outputs": [],
      "source": [
        "print(\"Accuracy of INN model 1 : \" + str(accuracy_INN1))\n",
        "print(\"Training time of CINN model 1 : \" + str(training_time_INN1))"
      ]
    },
    {
      "cell_type": "code",
      "execution_count": null,
      "metadata": {
        "colab": {
          "base_uri": "https://localhost:8080/"
        },
        "id": "V3nC6Hrgn1he",
        "outputId": "9ab2600e-ec09-415d-809f-22328e20818d"
      },
      "outputs": [],
      "source": [
        "modelINN1.summary()"
      ]
    },
    {
      "cell_type": "code",
      "execution_count": null,
      "metadata": {
        "colab": {
          "base_uri": "https://localhost:8080/",
          "height": 531
        },
        "id": "MM8-Rv9j2_V-",
        "outputId": "e3d123ec-f36f-443d-96d8-bd4fa76ebc46"
      },
      "outputs": [],
      "source": [
        "fig, ax = plt.subplots(1,2, figsize=(15,8))\n",
        "\n",
        "ax[0].plot(history.history['accuracy'], label='training accuracy')\n",
        "ax[0].plot(history.history['val_accuracy'], label='validation accuracy')\n",
        "ax[0].grid()\n",
        "ax[0].legend()\n",
        "ax[0].set_title('Accuracy vs. Epochs - INN model 1')\n",
        "ax[0].set_xlabel('# Epochs')\n",
        "\n",
        "ax[1].plot(history.history['loss'], label='training loss')\n",
        "ax[1].plot(history.history['val_loss'], label='validation loss')\n",
        "ax[1].grid()\n",
        "ax[1].legend()\n",
        "ax[1].set_title('Loss vs. Epochs - INN model 1')\n",
        "ax[1].set_xlabel('# Epochs')"
      ]
    },
    {
      "cell_type": "markdown",
      "metadata": {
        "id": "P2xekBNu6ByI"
      },
      "source": [
        "**Comparison CNN | INN** *(Google Colab, with GPU)*:\n",
        "\n",
        "*   Number of parameters: 319,178 | 13,080\n",
        "*   Execution time (seconds): 142.63 | 231.14\n",
        "*   Accuracy: 0.73 | 0.45"
      ]
    },
    {
      "cell_type": "markdown",
      "metadata": {
        "id": "K7LMXqjmCZlG"
      },
      "source": [
        "## Représentation graphique des modèles"
      ]
    },
    {
      "cell_type": "markdown",
      "metadata": {
        "id": "dN9qhKBtCcrP"
      },
      "source": [
        "### Convolution"
      ]
    },
    {
      "cell_type": "code",
      "execution_count": null,
      "metadata": {
        "colab": {
          "base_uri": "https://localhost:8080/",
          "height": 176
        },
        "id": "fZ0RMSYhCEEj",
        "outputId": "40b6528c-c9f7-4aa8-8e12-580ad975d396"
      },
      "outputs": [],
      "source": [
        "visualkeras.layered_view(modelCNN1, draw_volume=False, legend=True)"
      ]
    },
    {
      "cell_type": "markdown",
      "metadata": {
        "id": "NHrE-p9gCe46"
      },
      "source": [
        "### Involution"
      ]
    },
    {
      "cell_type": "code",
      "execution_count": null,
      "metadata": {
        "colab": {
          "base_uri": "https://localhost:8080/",
          "height": 197
        },
        "id": "d5irkSRyChdg",
        "outputId": "4777ecbe-bbf1-439e-83c2-756526cac733"
      },
      "outputs": [],
      "source": [
        "visualkeras.layered_view(modelINN1, draw_volume=False, legend=True)"
      ]
    }
  ],
  "metadata": {
    "accelerator": "GPU",
    "colab": {
      "collapsed_sections": [],
      "name": "experiments-emilie.ipynb",
      "provenance": []
    },
    "interpreter": {
      "hash": "34ff3397c474938b265d2f4b45024e5465249fab18e07736c9a068b37b408800"
    },
    "kernelspec": {
      "display_name": "Python 3.8.12 64-bit ('python-all': conda)",
      "language": "python",
      "name": "python3"
    },
    "language_info": {
      "codemirror_mode": {
        "name": "ipython",
        "version": 3
      },
      "file_extension": ".py",
      "mimetype": "text/x-python",
      "name": "python",
      "nbconvert_exporter": "python",
      "pygments_lexer": "ipython3",
      "version": "3.8.12"
    },
    "orig_nbformat": 4
  },
  "nbformat": 4,
  "nbformat_minor": 0
}
